{
 "cells": [
  {
   "cell_type": "markdown",
   "id": "c90100be-341a-404f-8feb-f1b5f22b9c6b",
   "metadata": {},
   "source": [
    "[![Open In Colab](https://colab.research.google.com/assets/colab-badge.svg)](https://colab.research.google.com/github/biosustain/data_club/blob/main/notebooks/data_annotation/uniprot_api-solved.ipynb)\n",
    "\n",
    "\n",
    "# Data Annotation -- Use Case 1\n",
    "\n",
    "In this notebook, we will use [UniProt's API](https://www.uniprot.org/help/programmatic_access) to get gene/protein information to annotate our experimental data.\n",
    "\n",
    "\n",
    "As a project dataset, we will use [Xia et al 2022](https://www.nature.com/articles/s41467-022-30513-2): **Proteome allocations change linearly with the specific growth rate of Saccharomyces cerevisiae under glucose limitation**\n",
    "\n",
    "<div>\n",
    "<img src=\"https://github.com/biosustain/data_club/raw/main/figures/xia_et_al_2022.png\" width=\"900\"/>\n",
    "</div>\n",
    "\n",
    "\n",
    "\n",
    "And specifically the absolute proteome and transcriptome:\n",
    "\n",
    "<div>\n",
    "<img src=\"https://github.com/biosustain/data_club/raw/main/figures/xia_datasets.png\" width=\"500\"/>\n",
    "</div>\n"
   ]
  },
  {
   "cell_type": "code",
   "execution_count": 18,
   "id": "cc456eea-2cae-41a5-898e-59b682390810",
   "metadata": {
    "tags": []
   },
   "outputs": [],
   "source": [
    "import os\n",
    "import requests, sys\n",
    "import json\n",
    "import pandas as pd\n",
    "\n",
    "\n",
    "def get_accession(gene_name):\n",
    "    requestURL = f\"https://www.ebi.ac.uk/proteins/api/proteins?offset=0&size=100&gene={gene_name}\"\n",
    "    \n",
    "    r = requests.get(requestURL, headers={ \"Accept\" : \"application/json\"})\n",
    "\n",
    "    if not r.ok:\n",
    "      r.raise_for_status()\n",
    "      sys.exit()\n",
    "\n",
    "    responseBody = r.text\n",
    "    try:\n",
    "        json_response = json.loads(responseBody)[0][\"accession\"]\n",
    "    except:\n",
    "        json_response = gene_name\n",
    "\n",
    "    return json_response"
   ]
  },
  {
   "cell_type": "code",
   "execution_count": 98,
   "id": "56fbcd09-89e4-4b9b-b536-3390361985d4",
   "metadata": {
    "tags": []
   },
   "outputs": [],
   "source": [
    "#get_accession(gene_name=\"R0010W\")"
   ]
  },
  {
   "cell_type": "code",
   "execution_count": 95,
   "id": "a0e913d2-79a9-4acb-9ec1-4683c95b01e0",
   "metadata": {
    "tags": []
   },
   "outputs": [],
   "source": [
    "def get_protein_info(accession):\n",
    "    requestURL = f\"https://www.ebi.ac.uk/proteins/api/proteins/{accession}\"\n",
    "\n",
    "    r = requests.get(requestURL, headers={ \"Accept\" : \"application/json\"})\n",
    "\n",
    "    if not r.ok:\n",
    "      r.raise_for_status()\n",
    "      sys.exit()\n",
    "\n",
    "    responseBody = r.text\n",
    "    try:\n",
    "        json_response = json.loads(responseBody)\n",
    "    except:\n",
    "        json_response = {}\n",
    "\n",
    "    return json_response\n",
    "\n",
    "def extract_protein_info(accession, response):\n",
    "    df =pd.DataFrame({\"id\":response[\"id\"], \"taxid\":response[\"organism\"][\"taxonomy\"], \n",
    "                      \"organism\":str(response[\"organism\"][\"names\"][0][\"value\"]), \n",
    "                      \"comments\": response[\"comments\"][0][\"text\"][0][\"value\"], \n",
    "                      \"sequence\":response[\"sequence\"][\"sequence\"], \n",
    "                      \"sequence_length\":response[\"sequence\"][\"length\"], \n",
    "                      \"sequence_mass\":response[\"sequence\"][\"mass\"]}, index=[accession])\n",
    "    return(df)"
   ]
  },
  {
   "cell_type": "code",
   "execution_count": 97,
   "id": "6e098bf6-8ef9-4f0b-9a9c-98795592d909",
   "metadata": {
    "tags": []
   },
   "outputs": [],
   "source": [
    "#result = get_protein_info(accession=\"P03870\")\n",
    "\n",
    "#extract_protein_info(accession=\"P03870\", response=result)\n"
   ]
  },
  {
   "cell_type": "code",
   "execution_count": 19,
   "id": "8fe6fb56-6189-41c1-b9ab-4498c37cd0c6",
   "metadata": {
    "tags": []
   },
   "outputs": [],
   "source": [
    "data_dir = \"../../data\"\n",
    "\n",
    "transcriptome_df = pd.read_csv(os.path.join(data_dir, \"trasncriptomics.tsv\"), sep='\\t', index_col=False)\n",
    "transcriptome_df[\"Accessions\"] = transcriptome_df[\"mRNA\"].apply(lambda x: get_accession(gene_name=x))"
   ]
  },
  {
   "cell_type": "code",
   "execution_count": 21,
   "id": "0f306c53-f7ed-41f0-9896-9458e4393b30",
   "metadata": {
    "tags": []
   },
   "outputs": [],
   "source": [
    "transcriptome_df.to_csv(os.path.join(data_dir, \"transcriptomics_mapped.tsv\"), sep='\\t', index=False, doublequote=None, header=True)"
   ]
  }
 ],
 "metadata": {
  "kernelspec": {
   "display_name": "Python 3 (ipykernel)",
   "language": "python",
   "name": "python3"
  },
  "language_info": {
   "codemirror_mode": {
    "name": "ipython",
    "version": 3
   },
   "file_extension": ".py",
   "mimetype": "text/x-python",
   "name": "python",
   "nbconvert_exporter": "python",
   "pygments_lexer": "ipython3",
   "version": "3.11.3"
  }
 },
 "nbformat": 4,
 "nbformat_minor": 5
}

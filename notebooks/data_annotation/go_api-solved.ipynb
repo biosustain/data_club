{
 "cells": [
  {
   "cell_type": "markdown",
   "id": "bc6913fe-31e5-49d5-a1c4-84869c11d402",
   "metadata": {},
   "source": [
    "[![Open In Colab](https://colab.research.google.com/assets/colab-badge.svg)](https://colab.research.google.com/github/biosustain/data_club/blob/main/notebooks/data_annotation/go_api-solved.ipynb)\n",
    "\n",
    "\n",
    "# Data Annotation -- Use Case 2\n",
    "\n",
    "In this notebook, we will use Gene Ontology terms for *S. Cerevisiae* downloaded from [GO's website](https://current.geneontology.org/products/pages/downloads.html) to get activity information to annotate our experimental data."
   ]
  },
  {
   "cell_type": "code",
   "execution_count": 1,
   "id": "efab1cb3-61d6-4341-8d41-f39880d698e1",
   "metadata": {
    "tags": []
   },
   "outputs": [],
   "source": [
    "import os\n",
    "import pandas as pd\n",
    "from uniprot_api import get_accession"
   ]
  },
  {
   "cell_type": "code",
   "execution_count": 2,
   "id": "4c5d9050-c76d-4b4e-9da8-8a11bf3923c5",
   "metadata": {
    "tags": []
   },
   "outputs": [],
   "source": [
    "data_dir = \"../../data\"\n",
    "go_file = \"sgd.gaf.gz\""
   ]
  },
  {
   "cell_type": "code",
   "execution_count": 3,
   "id": "eaea089f-cf96-4685-b7c3-f6ffd94f26e6",
   "metadata": {
    "tags": []
   },
   "outputs": [],
   "source": [
    "data = pd.read_csv(os.path.join(data_dir, go_file), sep=\"\\t\", compression='gzip', comment='!', header=None)"
   ]
  },
  {
   "cell_type": "code",
   "execution_count": 4,
   "id": "5e1f085c-548f-4209-94df-9dac6d93fe0e",
   "metadata": {
    "tags": []
   },
   "outputs": [
    {
     "data": {
      "text/html": [
       "<div>\n",
       "<style scoped>\n",
       "    .dataframe tbody tr th:only-of-type {\n",
       "        vertical-align: middle;\n",
       "    }\n",
       "\n",
       "    .dataframe tbody tr th {\n",
       "        vertical-align: top;\n",
       "    }\n",
       "\n",
       "    .dataframe thead th {\n",
       "        text-align: right;\n",
       "    }\n",
       "</style>\n",
       "<table border=\"1\" class=\"dataframe\">\n",
       "  <thead>\n",
       "    <tr style=\"text-align: right;\">\n",
       "      <th></th>\n",
       "      <th>0</th>\n",
       "      <th>1</th>\n",
       "      <th>2</th>\n",
       "      <th>3</th>\n",
       "      <th>4</th>\n",
       "      <th>5</th>\n",
       "      <th>6</th>\n",
       "      <th>7</th>\n",
       "      <th>8</th>\n",
       "      <th>9</th>\n",
       "      <th>10</th>\n",
       "      <th>11</th>\n",
       "      <th>12</th>\n",
       "      <th>13</th>\n",
       "      <th>14</th>\n",
       "      <th>15</th>\n",
       "      <th>16</th>\n",
       "    </tr>\n",
       "  </thead>\n",
       "  <tbody>\n",
       "    <tr>\n",
       "      <th>0</th>\n",
       "      <td>SGD</td>\n",
       "      <td>S000006369</td>\n",
       "      <td>RHO1</td>\n",
       "      <td>involved_in</td>\n",
       "      <td>GO:0090334</td>\n",
       "      <td>PMID:36949198</td>\n",
       "      <td>IDA</td>\n",
       "      <td>NaN</td>\n",
       "      <td>P</td>\n",
       "      <td>GTP-binding protein of the rho subfamily of Ra...</td>\n",
       "      <td>YPR165W|Rho family GTPase RHO1</td>\n",
       "      <td>protein</td>\n",
       "      <td>taxon:559292</td>\n",
       "      <td>20230807</td>\n",
       "      <td>SGD</td>\n",
       "      <td>NaN</td>\n",
       "      <td>UniProtKB:P06780</td>\n",
       "    </tr>\n",
       "    <tr>\n",
       "      <th>1</th>\n",
       "      <td>SGD</td>\n",
       "      <td>S000001554</td>\n",
       "      <td>OSI1</td>\n",
       "      <td>enables</td>\n",
       "      <td>GO:0004029</td>\n",
       "      <td>PMID:29034432</td>\n",
       "      <td>IDA</td>\n",
       "      <td>NaN</td>\n",
       "      <td>F</td>\n",
       "      <td>NADH-dependent short-chain aldehyde reductase</td>\n",
       "      <td>YKL071W</td>\n",
       "      <td>protein</td>\n",
       "      <td>taxon:559292</td>\n",
       "      <td>20230606</td>\n",
       "      <td>SGD</td>\n",
       "      <td>NaN</td>\n",
       "      <td>UniProtKB:P36086</td>\n",
       "    </tr>\n",
       "    <tr>\n",
       "      <th>2</th>\n",
       "      <td>SGD</td>\n",
       "      <td>S000006369</td>\n",
       "      <td>RHO1</td>\n",
       "      <td>enables</td>\n",
       "      <td>GO:0008047</td>\n",
       "      <td>PMID:36949198</td>\n",
       "      <td>IDA</td>\n",
       "      <td>NaN</td>\n",
       "      <td>F</td>\n",
       "      <td>GTP-binding protein of the rho subfamily of Ra...</td>\n",
       "      <td>YPR165W|Rho family GTPase RHO1</td>\n",
       "      <td>protein</td>\n",
       "      <td>taxon:559292</td>\n",
       "      <td>20230807</td>\n",
       "      <td>SGD</td>\n",
       "      <td>has_input(SGD:S000004334),part_of(GO:0090334)</td>\n",
       "      <td>UniProtKB:P06780</td>\n",
       "    </tr>\n",
       "    <tr>\n",
       "      <th>3</th>\n",
       "      <td>SGD</td>\n",
       "      <td>S000001552</td>\n",
       "      <td>YKL069W</td>\n",
       "      <td>enables</td>\n",
       "      <td>GO:0033745</td>\n",
       "      <td>PMID:19049972</td>\n",
       "      <td>IDA</td>\n",
       "      <td>NaN</td>\n",
       "      <td>F</td>\n",
       "      <td>Methionine-R-sulfoxide reductase</td>\n",
       "      <td>YKL069W|fRMsr|YKG9|L-methionine (R)-S-oxide re...</td>\n",
       "      <td>protein</td>\n",
       "      <td>taxon:559292</td>\n",
       "      <td>20230607</td>\n",
       "      <td>SGD</td>\n",
       "      <td>NaN</td>\n",
       "      <td>UniProtKB:P36088</td>\n",
       "    </tr>\n",
       "    <tr>\n",
       "      <th>4</th>\n",
       "      <td>SGD</td>\n",
       "      <td>S000003211</td>\n",
       "      <td>ANK1</td>\n",
       "      <td>is_active_in</td>\n",
       "      <td>GO:0005737</td>\n",
       "      <td>PMID:37531259</td>\n",
       "      <td>IDA</td>\n",
       "      <td>NaN</td>\n",
       "      <td>C</td>\n",
       "      <td>Cytoplasmic ankyrin repeat-containing protein</td>\n",
       "      <td>YGL242C</td>\n",
       "      <td>protein</td>\n",
       "      <td>taxon:559292</td>\n",
       "      <td>20230809</td>\n",
       "      <td>SGD</td>\n",
       "      <td>NaN</td>\n",
       "      <td>UniProtKB:P53066</td>\n",
       "    </tr>\n",
       "  </tbody>\n",
       "</table>\n",
       "</div>"
      ],
      "text/plain": [
       "    0           1        2             3           4              5    6    \n",
       "0  SGD  S000006369     RHO1   involved_in  GO:0090334  PMID:36949198  IDA  \\\n",
       "1  SGD  S000001554     OSI1       enables  GO:0004029  PMID:29034432  IDA   \n",
       "2  SGD  S000006369     RHO1       enables  GO:0008047  PMID:36949198  IDA   \n",
       "3  SGD  S000001552  YKL069W       enables  GO:0033745  PMID:19049972  IDA   \n",
       "4  SGD  S000003211     ANK1  is_active_in  GO:0005737  PMID:37531259  IDA   \n",
       "\n",
       "    7  8                                                  9    \n",
       "0  NaN  P  GTP-binding protein of the rho subfamily of Ra...  \\\n",
       "1  NaN  F      NADH-dependent short-chain aldehyde reductase   \n",
       "2  NaN  F  GTP-binding protein of the rho subfamily of Ra...   \n",
       "3  NaN  F                   Methionine-R-sulfoxide reductase   \n",
       "4  NaN  C      Cytoplasmic ankyrin repeat-containing protein   \n",
       "\n",
       "                                                  10       11            12   \n",
       "0                     YPR165W|Rho family GTPase RHO1  protein  taxon:559292  \\\n",
       "1                                            YKL071W  protein  taxon:559292   \n",
       "2                     YPR165W|Rho family GTPase RHO1  protein  taxon:559292   \n",
       "3  YKL069W|fRMsr|YKG9|L-methionine (R)-S-oxide re...  protein  taxon:559292   \n",
       "4                                            YGL242C  protein  taxon:559292   \n",
       "\n",
       "         13   14                                             15   \n",
       "0  20230807  SGD                                            NaN  \\\n",
       "1  20230606  SGD                                            NaN   \n",
       "2  20230807  SGD  has_input(SGD:S000004334),part_of(GO:0090334)   \n",
       "3  20230607  SGD                                            NaN   \n",
       "4  20230809  SGD                                            NaN   \n",
       "\n",
       "                 16  \n",
       "0  UniProtKB:P06780  \n",
       "1  UniProtKB:P36086  \n",
       "2  UniProtKB:P06780  \n",
       "3  UniProtKB:P36088  \n",
       "4  UniProtKB:P53066  "
      ]
     },
     "execution_count": 4,
     "metadata": {},
     "output_type": "execute_result"
    }
   ],
   "source": [
    "data.head()"
   ]
  },
  {
   "cell_type": "code",
   "execution_count": 8,
   "id": "2666f4dd-7c17-4dbe-bbd1-48e411664376",
   "metadata": {
    "tags": []
   },
   "outputs": [],
   "source": [
    "data[\"ids\"] = data[10].apply(lambda x: x.split(\"|\")[0])\n",
    "data = data[[\"ids\", 4]]\n",
    "data.columns = [\"ids\", \"go\"]"
   ]
  },
  {
   "cell_type": "code",
   "execution_count": 10,
   "id": "9b251670-e029-4e84-a2f9-cfced7a21fd0",
   "metadata": {
    "tags": []
   },
   "outputs": [],
   "source": [
    "data[[\"ids\", \"go\"]].to_csv(os.path.join(data_dir, \"sgd_goa.tsv\"), sep='\\t', header=True, index=False, doublequote=None)"
   ]
  },
  {
   "cell_type": "code",
   "execution_count": null,
   "id": "5069eb81-b38e-4c1d-ad46-c885a242e284",
   "metadata": {},
   "outputs": [],
   "source": []
  }
 ],
 "metadata": {
  "kernelspec": {
   "display_name": "Python 3 (ipykernel)",
   "language": "python",
   "name": "python3"
  },
  "language_info": {
   "codemirror_mode": {
    "name": "ipython",
    "version": 3
   },
   "file_extension": ".py",
   "mimetype": "text/x-python",
   "name": "python",
   "nbconvert_exporter": "python",
   "pygments_lexer": "ipython3",
   "version": "3.11.3"
  }
 },
 "nbformat": 4,
 "nbformat_minor": 5
}

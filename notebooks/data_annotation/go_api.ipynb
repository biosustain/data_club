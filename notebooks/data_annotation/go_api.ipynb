{
 "cells": [
  {
   "cell_type": "markdown",
   "id": "bc6913fe-31e5-49d5-a1c4-84869c11d402",
   "metadata": {},
   "source": [
    "[![Open In Colab](https://colab.research.google.com/assets/colab-badge.svg)](https://colab.research.google.com/github/biosustain/data_club/blob/main/notebooks/data_annotation/go_api.ipynb)\n",
    "\n",
    "\n",
    "# Data Annotation -- Use Case 2\n",
    "\n",
    "In this notebook, we will use Gene Ontology terms for *S. Cerevisiae* downloaded from [GO's website](https://current.geneontology.org/products/pages/downloads.html) to get activity information to annotate our experimental data."
   ]
  },
  {
   "cell_type": "code",
   "execution_count": null,
   "id": "5069eb81-b38e-4c1d-ad46-c885a242e284",
   "metadata": {},
   "outputs": [],
   "source": []
  }
 ],
 "metadata": {
  "kernelspec": {
   "display_name": "Python 3 (ipykernel)",
   "language": "python",
   "name": "python3"
  },
  "language_info": {
   "codemirror_mode": {
    "name": "ipython",
    "version": 3
   },
   "file_extension": ".py",
   "mimetype": "text/x-python",
   "name": "python",
   "nbconvert_exporter": "python",
   "pygments_lexer": "ipython3",
   "version": "3.11.3"
  }
 },
 "nbformat": 4,
 "nbformat_minor": 5
}

{
 "cells": [
  {
   "cell_type": "markdown",
   "id": "c90100be-341a-404f-8feb-f1b5f22b9c6b",
   "metadata": {},
   "source": [
    "[![Open In Colab](https://colab.research.google.com/assets/colab-badge.svg)](https://colab.research.google.com/github/biosustain/data_club/blob/main/notebooks/data_annotation/uniprot_api.ipynb)\n",
    "\n",
    "\n",
    "# Data Annotation -- Use Case 1\n",
    "\n",
    "In this notebook, we will use [UniProt's API](https://www.uniprot.org/help/programmatic_access) to get gene/protein information to annotate our experimental data.\n",
    "\n",
    "\n",
    "As a project dataset, we will use [Xia et al 2022](https://www.nature.com/articles/s41467-022-30513-2): **Proteome allocations change linearly with the specific growth rate of Saccharomyces cerevisiae under glucose limitation**\n",
    "\n",
    "<div>\n",
    "<img src=\"https://github.com/biosustain/data_club/raw/main/figures/xia_et_al_2022.png\" width=\"900\"/>\n",
    "</div>\n",
    "\n",
    "\n",
    "\n",
    "And specifically the absolute proteome and transcriptome:\n",
    "\n",
    "<div>\n",
    "<img src=\"https://github.com/biosustain/data_club/raw/main/figures/xia_datasets.png\" width=\"500\"/>\n",
    "</div>\n"
   ]
  }
 ],
 "metadata": {
  "kernelspec": {
   "display_name": "Python 3 (ipykernel)",
   "language": "python",
   "name": "python3"
  },
  "language_info": {
   "codemirror_mode": {
    "name": "ipython",
    "version": 3
   },
   "file_extension": ".py",
   "mimetype": "text/x-python",
   "name": "python",
   "nbconvert_exporter": "python",
   "pygments_lexer": "ipython3",
   "version": "3.11.3"
  }
 },
 "nbformat": 4,
 "nbformat_minor": 5
}

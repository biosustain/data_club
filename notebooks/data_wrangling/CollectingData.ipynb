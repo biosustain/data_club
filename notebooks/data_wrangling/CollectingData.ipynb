{
 "cells": [
  {
   "cell_type": "markdown",
   "id": "905032c6-de25-4047-8fea-36c9727c65be",
   "metadata": {},
   "source": [
    "# Collecting Data\n",
    "\n",
    "When we want to collect data in the shape of tables/dataframes, [**Pandas**](https://pandas.pydata.org/) library is a fast, powerful, flexible and easy to use open source data analysis and manipulation tool, built on top of the Python programming language.\n",
    "\n",
    "**Pandas** works with a data structure called data frame, which is a matrix with rows and columns.\n",
    "\n",
    "![dataframe](https://pandas.pydata.org/docs/_images/01_table_dataframe.svg)\n",
    "\n",
    "To be able to use **Pandas** you first need to install the library by using [pip](https://pypi.org/project/pip/):\n",
    "\n",
    "```shell\n",
    "# Command line\n",
    "pip install pandas\n",
    "```\n",
    "\n",
    "```python\n",
    "# Notebook\n",
    "!pip install pandas\n",
    "```\n",
    "\n",
    "And then you can import the library with:\n",
    "\n",
    "```python\n",
    "import pandas as pd\n",
    "```\n",
    "\n",
    "Once the library is imported you can create your own dataframes (test this example code):\n",
    "\n",
    "```python\n",
    "\n",
    "# From a Python list\n",
    "areas = ['Sustainable Chemicals', 'Natural Products', 'Microbial Foods']\n",
    "\n",
    "df_areas = pd.DataFrame(areas)\n",
    "\n",
    "# From a dictionary\n",
    "research = {'areas': areas, \\\n",
    "            'contact': ['Andreas Worberg', 'Ditte Hededam Welner', 'Morten Sommer'], \\\n",
    "            'num_groups': [2, 4, 3], \\\n",
    "            'description': ['An applied translational application program, focusing on the identification and pilot production of commercially viable metabolites in a microbial scaleable production strain. ', \\\n",
    "                            'This program develops tools for yeast and actinomycete cell factories to produce any plant, fungal or actinobacterial natural product.', \\\n",
    "                            'We are rethinking food production from scratch, from a biosustainability point of view.']\n",
    "            }\n",
    "\n",
    "df_research = pd.DataFrame(research)\n",
    "\n",
    "\n",
    "df_areas.head()\n",
    "df_research.head()\n",
    "```"
   ]
  },
  {
   "cell_type": "markdown",
   "id": "109e9bc4-5063-45cd-b2ab-bdb108126580",
   "metadata": {},
   "source": [
    "## Loading Data with Pandas\n",
    "\n",
    "![loading](https://pandas.pydata.org/docs/_images/02_io_readwrite.svg)\n",
    "\n",
    "\n",
    "\n",
    "Pandas provides the [**read_csv()**](https://pandas.pydata.org/docs/reference/api/pandas.read_csv.html) function to read data stored as a csv/tsv file into a pandas DataFrame. pandas supports many different file formats or data sources out of the box (csv, excel, sql, json, parquet, …), each of them with the prefix read_*.\n",
    "\n",
    "You can read from a local file:\n",
    "\n",
    "```python\n",
    "import pandas as pd\n",
    "\n",
    "data = pd.read_csv(\"my_file.csv\", sep=',')\n",
    "\n",
    "data.head()\n",
    "\n",
    "```\n",
    "\n",
    "Or from a url, for instance from [PRIDE](https://www.ebi.ac.uk/pride) database:\n",
    "```python\n",
    "import pandas as pd\n",
    "\n",
    "data = pd.read_csv(\"https://ftp.pride.ebi.ac.uk/pride/data/archive/2023/05/PXD041975/experimentalDesignTemplate.txt\", sep='\\t')\n",
    "\n",
    "data.head()\n",
    "```\n",
    "\n",
    "\n",
    "Some other data samples you can use:\n",
    "\n",
    "**Excel**\n",
    "https://res.cloudinary.com/opquast/raw/upload/checklists/OPQUAST-CHECKLIST-EN_2020.xls\n",
    "\n",
    "**Zipped txt**\n",
    "https://ftp.pride.ebi.ac.uk/pride/data/archive/2023/05/PXD041957txt.zip\n",
    "\n",
    "**Json**\n",
    "https://www.ncbi.nlm.nih.gov/research/bionlp/RESTful/pubmed.cgi/BioC_json/17299597/unicode\n"
   ]
  },
  {
   "cell_type": "code",
   "execution_count": null,
   "id": "8e422db2-d546-45a0-9cc7-4cd3609163b0",
   "metadata": {
    "tags": []
   },
   "outputs": [],
   "source": []
  },
  {
   "cell_type": "code",
   "execution_count": 1,
   "id": "b04ab2da-eecb-4e14-97ea-a72b033a5f7b",
   "metadata": {
    "tags": []
   },
   "outputs": [],
   "source": []
  },
  {
   "cell_type": "code",
   "execution_count": null,
   "id": "487c26b0-f414-4f99-bed5-17cbc9245f20",
   "metadata": {
    "tags": []
   },
   "outputs": [],
   "source": []
  },
  {
   "cell_type": "code",
   "execution_count": null,
   "id": "73ac1c22-ae0f-4e4a-b466-037d23fd8853",
   "metadata": {},
   "outputs": [],
   "source": []
  },
  {
   "cell_type": "code",
   "execution_count": null,
   "id": "6418565f-706a-457a-9902-9de7abe2fbbe",
   "metadata": {},
   "outputs": [],
   "source": []
  }
 ],
 "metadata": {
  "kernelspec": {
   "display_name": "Python 3 (ipykernel)",
   "language": "python",
   "name": "python3"
  },
  "language_info": {
   "codemirror_mode": {
    "name": "ipython",
    "version": 3
   },
   "file_extension": ".py",
   "mimetype": "text/x-python",
   "name": "python",
   "nbconvert_exporter": "python",
   "pygments_lexer": "ipython3",
   "version": "3.11.3"
  }
 },
 "nbformat": 4,
 "nbformat_minor": 5
}

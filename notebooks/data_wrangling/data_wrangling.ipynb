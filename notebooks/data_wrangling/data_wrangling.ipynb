{
 "cells": [
  {
   "cell_type": "markdown",
   "id": "62174b8c-25c5-4414-a11f-35fe57d1be3d",
   "metadata": {},
   "source": [
    "# Data Wrangling\n",
    "\n",
    "In this notebook, we will see the initial steps of the Data Science process that have to do with Data wrangling:\n",
    "\n",
    "<div>\n",
    "<img src=\"https://github.com/biosustain/data_club/raw/main/figures/data_science_process.png\" width=\"900\"/>\n",
    "</div>\n",
    "\n",
    "The steps we will go through are:\n",
    "\n",
    "#### - Data collection\n",
    "\n",
    "#### - Data cleaning\n",
    "\n",
    "#### - Data transformation\n",
    "\n",
    "#### - Data annotation\n",
    "\n",
    "#### - Data validation\n",
    "\n",
    "\n",
    "As a project dataset, we will use [Xia et al 2022](https://www.nature.com/articles/s41467-022-30513-2): **Proteome allocations change linearly with the specific growth rate of Saccharomyces cerevisiae under glucose limitation**\n",
    "\n",
    "<div>\n",
    "<img src=\"https://github.com/biosustain/data_club/raw/main/figures/xia_et_al_2022.png\" width=\"900\"/>\n",
    "</div>\n",
    "\n",
    "\n",
    "\n",
    "And specifically the absolute proteome and transcriptome:\n",
    "\n",
    "<div>\n",
    "<img src=\"https://github.com/biosustain/data_club/raw/main/figures/xia_datasets.png\" width=\"500\"/>\n",
    "</div>\n"
   ]
  },
  {
   "cell_type": "markdown",
   "id": "1c57760c-b253-4896-b095-49d8935479a8",
   "metadata": {},
   "source": [
    "## Collecting Data\n",
    "\n",
    "[Collecting data notebook](CollectingData.ipynb)"
   ]
  },
  {
   "cell_type": "code",
   "execution_count": null,
   "id": "a062b877-f0b7-4ab8-a1ff-0232b2510725",
   "metadata": {
    "tags": []
   },
   "outputs": [],
   "source": [
    "import os\n",
    "import pandas as pd"
   ]
  },
  {
   "cell_type": "code",
   "execution_count": null,
   "id": "90c2793d-9e06-4a21-99be-d7436b4bf23d",
   "metadata": {
    "tags": []
   },
   "outputs": [],
   "source": [
    "article_url = \"https://static-content.springer.com/esm/art%3A10.1038%2Fs41467-022-30513-2/MediaObjects/\" \n",
    "proteome_file = \"41467_2022_30513_MOESM4_ESM.xlsx\"\n",
    "transcriptome_file = \"41467_2022_30513_MOESM6_ESM.xlsx\""
   ]
  },
  {
   "cell_type": "markdown",
   "id": "aacc5bbc-8b03-4ed9-b399-0a6136f00a09",
   "metadata": {},
   "source": [
    "### Transcriptome data\n",
    "\n",
    "<div>\n",
    "<img src=\"https://github.com/biosustain/data_club/raw/main/figures/xia_trans_dataset.png\" width=\"300\"/>\n",
    "</div>"
   ]
  },
  {
   "cell_type": "code",
   "execution_count": null,
   "id": "ad49e994-a93b-459e-bcd1-7b35ce19a574",
   "metadata": {
    "tags": []
   },
   "outputs": [],
   "source": [
    "transcriptome_data = pd.read_excel(os.path.join(article_url, transcriptome_file), header=0)"
   ]
  },
  {
   "cell_type": "markdown",
   "id": "7c8a8797-784f-4b34-a359-6f3dda89e692",
   "metadata": {},
   "source": [
    "### Proteome data\n",
    "\n",
    "<div>\n",
    "<img src=\"https://github.com/biosustain/data_club/raw/main/figures/xia_prot_dataset.png\" width=\"300\"/>\n",
    "</div>"
   ]
  },
  {
   "cell_type": "code",
   "execution_count": null,
   "id": "6ad298cc-7f4f-4ade-a78e-6ccf0dd7bcbf",
   "metadata": {
    "tags": []
   },
   "outputs": [],
   "source": [
    "proteome_data = pd.read_excel(os.path.join(article_url, proteome_file), header=0)"
   ]
  },
  {
   "cell_type": "markdown",
   "id": "fec8d18b-7e60-4940-82b5-d7f461bf9500",
   "metadata": {},
   "source": [
    "## Data Cleaning\n",
    "\n",
    "### Transcriptome"
   ]
  },
  {
   "cell_type": "markdown",
   "id": "eca624af-33a4-42da-82ac-c64393b56d01",
   "metadata": {},
   "source": [
    "**Print the first few rows of the dataset**"
   ]
  },
  {
   "cell_type": "code",
   "execution_count": null,
   "id": "5e4d9bfd-3e07-4f15-bc5e-76354e1e43c1",
   "metadata": {
    "tags": []
   },
   "outputs": [],
   "source": []
  },
  {
   "cell_type": "markdown",
   "id": "2e732e0d-a445-4614-99da-caa522b53cfe",
   "metadata": {},
   "source": [
    "**Print the last few rows of the dataset**"
   ]
  },
  {
   "cell_type": "code",
   "execution_count": null,
   "id": "52c9243f-1f0f-4300-a4d9-1d5ec8931534",
   "metadata": {
    "tags": []
   },
   "outputs": [],
   "source": []
  },
  {
   "cell_type": "markdown",
   "id": "f770d9ab-f9c1-4d89-8f98-ddece07117ee",
   "metadata": {},
   "source": [
    "**Have a look at the shape and format of the dataframe**"
   ]
  },
  {
   "cell_type": "code",
   "execution_count": null,
   "id": "3f737361-5c06-4e14-9d4d-0f0a659db1f3",
   "metadata": {
    "tags": []
   },
   "outputs": [],
   "source": []
  },
  {
   "cell_type": "code",
   "execution_count": null,
   "id": "1b846281-d0a1-4133-b500-ae93dff02db2",
   "metadata": {
    "tags": []
   },
   "outputs": [],
   "source": []
  },
  {
   "cell_type": "markdown",
   "id": "0fcfa1cf-8450-4abe-9bdc-a1f7c9196a7e",
   "metadata": {},
   "source": [
    "**Check for missing values**"
   ]
  },
  {
   "cell_type": "code",
   "execution_count": null,
   "id": "93d5789e-457f-4b4c-b813-e940e5c9198f",
   "metadata": {},
   "outputs": [],
   "source": []
  },
  {
   "cell_type": "code",
   "execution_count": null,
   "id": "7eaacc4d-150e-4323-8bee-789e83a3d2df",
   "metadata": {
    "tags": []
   },
   "outputs": [],
   "source": []
  },
  {
   "cell_type": "code",
   "execution_count": null,
   "id": "9ea91a27-ea0b-4869-a6fa-77f6b00709e5",
   "metadata": {
    "tags": []
   },
   "outputs": [],
   "source": []
  },
  {
   "cell_type": "markdown",
   "id": "df23544d-8b34-4ce3-bdc0-89324ddb9abf",
   "metadata": {},
   "source": [
    "### Proteome"
   ]
  },
  {
   "cell_type": "markdown",
   "id": "48d77da9-b134-40da-96ad-0ed9d8353978",
   "metadata": {},
   "source": [
    "**Print the first few rows of the dataset**"
   ]
  },
  {
   "cell_type": "code",
   "execution_count": null,
   "id": "b5b5882c-a64b-4061-9fb1-f6fbb72849d6",
   "metadata": {
    "tags": []
   },
   "outputs": [],
   "source": []
  },
  {
   "cell_type": "markdown",
   "id": "ff54caa5-ed8d-4a54-9e66-06a4b03a82a2",
   "metadata": {},
   "source": [
    "**Print the last few rows of the dataset**"
   ]
  },
  {
   "cell_type": "code",
   "execution_count": null,
   "id": "b66a99f9-ef01-4e98-8706-31c1226a195f",
   "metadata": {
    "tags": []
   },
   "outputs": [],
   "source": []
  },
  {
   "cell_type": "markdown",
   "id": "84a7c96d-74c0-41d3-9142-fad13ec4e301",
   "metadata": {},
   "source": [
    "**Have a look at the shape and format of the dataframe**"
   ]
  },
  {
   "cell_type": "code",
   "execution_count": null,
   "id": "6fed7c88-df05-400d-abc9-9f34091ab3f5",
   "metadata": {
    "tags": []
   },
   "outputs": [],
   "source": []
  },
  {
   "cell_type": "code",
   "execution_count": null,
   "id": "98b392a5-9425-4aae-b644-1136b898eb1c",
   "metadata": {
    "tags": []
   },
   "outputs": [],
   "source": []
  },
  {
   "cell_type": "markdown",
   "id": "d4c0d803-0f3b-4179-a6db-4e7922e540fd",
   "metadata": {},
   "source": [
    "**Check for missing values**"
   ]
  },
  {
   "cell_type": "code",
   "execution_count": null,
   "id": "924497e4-3f2f-41a8-8998-c1422372b338",
   "metadata": {},
   "outputs": [],
   "source": []
  },
  {
   "cell_type": "code",
   "execution_count": null,
   "id": "206fd11c-5d2c-4d76-9369-4659eb19d411",
   "metadata": {
    "tags": []
   },
   "outputs": [],
   "source": []
  },
  {
   "cell_type": "code",
   "execution_count": null,
   "id": "22344b5d-0c01-433c-b2f5-49884b2a3a46",
   "metadata": {
    "tags": []
   },
   "outputs": [],
   "source": []
  },
  {
   "cell_type": "markdown",
   "id": "a39aacb7-46c5-4ef7-ac26-0b9e4910b215",
   "metadata": {},
   "source": [
    "**Handling missing values**\n",
    "\n",
    "\n",
    "- _Missing at Random (MAR)_\n",
    "\n",
    "MAR missing values mostly result from technical limitations and stochastic fluctuations in an abundance-independent manner\n",
    "\n",
    "- _Missing Not at Random (MNAR)_\n",
    "\n",
    "MNAR missing values are more abundance-dependent that can be explained by the measurability of the corresponding peptides\n",
    "\n",
    "(source: [A comparative study of evaluating missing value imputation methods in label-free proteomics](https://www.nature.com/articles/s41598-021-81279-4))\n",
    "\n",
    "Some options:\n",
    "\n",
    "1. Drop rows or columns that have a missing value\n",
    "```python\n",
    "# drop column where there is a missing value\n",
    "df.dropna(axis=1)\n",
    "```\n",
    "\n",
    "2. Fill with a constant value\n",
    "```python\n",
    "# use 0 to fill the gap\n",
    "df.fillna(value=0)\n",
    "```\n",
    "\n",
    "3. Fill with an aggregated value (e.g., max, min, mean, median)\n",
    "```python\n",
    "# use the mean of the column for fill the gap\n",
    "df['column1'].fillna(df['column1'].mean())\n",
    "```\n",
    "\n",
    "4. Replace with the previous (ffill) or next value (bfill)\n",
    "```python\n",
    "# use next valid observation to fill gap\n",
    "df.fillna(method ='bfill')\n",
    "```\n",
    "\n",
    "5. Fill the missing values using linear method\n",
    "```python\n",
    "# to interpolate the missing values \n",
    "df.interpolate(method ='linear', limit_direction ='forward')\n",
    "```"
   ]
  },
  {
   "cell_type": "markdown",
   "id": "d5a4ae06-6c3e-499e-9f68-0cce717cd58a",
   "metadata": {},
   "source": [
    "### Transcriptome"
   ]
  },
  {
   "cell_type": "code",
   "execution_count": null,
   "id": "fe1cccde-cb51-4b91-a3c5-0005c6b139ff",
   "metadata": {
    "tags": []
   },
   "outputs": [],
   "source": [
    "transcriptome_data_complete = transcriptome_data.dropna(inplace=False)  # Remove rows with missing data"
   ]
  },
  {
   "cell_type": "code",
   "execution_count": null,
   "id": "b29ec5e6-1fc0-4af9-b540-6d35675739ae",
   "metadata": {
    "tags": []
   },
   "outputs": [],
   "source": [
    "transcriptome_data_complete.isnull().sum()"
   ]
  },
  {
   "cell_type": "markdown",
   "id": "a73788f7-615b-4dc5-9f51-3f9ed49a28b5",
   "metadata": {},
   "source": [
    "### Proteome"
   ]
  },
  {
   "cell_type": "code",
   "execution_count": null,
   "id": "019b808b-1e1c-4a4c-8c45-0c19e3b38644",
   "metadata": {
    "tags": []
   },
   "outputs": [],
   "source": [
    "proteome_data.head()"
   ]
  },
  {
   "cell_type": "markdown",
   "id": "1f9f5ef2-71d3-437a-8fd7-6e3ce616de0c",
   "metadata": {},
   "source": [
    "**Filtering**"
   ]
  },
  {
   "cell_type": "code",
   "execution_count": null,
   "id": "f3bb1b07-fd57-4799-92af-a985ce1e7660",
   "metadata": {
    "tags": []
   },
   "outputs": [],
   "source": []
  },
  {
   "cell_type": "code",
   "execution_count": null,
   "id": "3c01ed63-cad5-4644-8f64-55d492775c5a",
   "metadata": {
    "tags": []
   },
   "outputs": [],
   "source": []
  },
  {
   "cell_type": "code",
   "execution_count": null,
   "id": "288d6633-33c6-4804-81ec-7675ace30619",
   "metadata": {
    "tags": []
   },
   "outputs": [],
   "source": []
  },
  {
   "cell_type": "code",
   "execution_count": null,
   "id": "f7ed3d29-04f8-4fdc-8bfc-df74cb266759",
   "metadata": {
    "tags": []
   },
   "outputs": [],
   "source": []
  },
  {
   "cell_type": "code",
   "execution_count": null,
   "id": "f69dbe5d-b430-4d6e-8cb0-865b58ac2402",
   "metadata": {
    "tags": []
   },
   "outputs": [],
   "source": []
  },
  {
   "cell_type": "markdown",
   "id": "5759bfa4-aa50-44ba-98cb-5bc28133a8f5",
   "metadata": {
    "tags": []
   },
   "source": [
    "! relevant --  Column Majority protein IDs"
   ]
  },
  {
   "cell_type": "code",
   "execution_count": null,
   "id": "3ca02e97-0c7b-4222-88ac-eb1329b63012",
   "metadata": {
    "tags": []
   },
   "outputs": [],
   "source": []
  },
  {
   "cell_type": "code",
   "execution_count": null,
   "id": "38dbe51c-7477-4877-9af6-16b05de2005a",
   "metadata": {
    "tags": []
   },
   "outputs": [],
   "source": []
  },
  {
   "cell_type": "code",
   "execution_count": null,
   "id": "1736efdf-0687-412b-95d2-3a973d5789b5",
   "metadata": {
    "tags": []
   },
   "outputs": [],
   "source": []
  },
  {
   "cell_type": "code",
   "execution_count": null,
   "id": "4063f0e5-cc2e-42a1-973c-190c85b79448",
   "metadata": {
    "tags": []
   },
   "outputs": [],
   "source": []
  },
  {
   "cell_type": "code",
   "execution_count": null,
   "id": "bf4da37d-5268-4f5d-ae1b-25fae73b06f1",
   "metadata": {
    "tags": []
   },
   "outputs": [],
   "source": []
  },
  {
   "cell_type": "markdown",
   "id": "fd941209-4897-42f8-bf1b-d854d6dbb6ef",
   "metadata": {},
   "source": [
    "### Complete dataframes"
   ]
  },
  {
   "cell_type": "code",
   "execution_count": null,
   "id": "60a69037-90d9-49f4-a223-2a37a5e71abf",
   "metadata": {
    "tags": []
   },
   "outputs": [],
   "source": []
  },
  {
   "cell_type": "code",
   "execution_count": null,
   "id": "55b84032-2313-482f-9264-8f758e2e0e74",
   "metadata": {
    "tags": []
   },
   "outputs": [],
   "source": []
  },
  {
   "cell_type": "markdown",
   "id": "bc88549a-ec99-4b8e-a0a5-8edf500dc648",
   "metadata": {
    "tags": []
   },
   "source": [
    "## Data Transformation"
   ]
  },
  {
   "cell_type": "code",
   "execution_count": null,
   "id": "ed23ed54-f6ce-4556-b12c-8dd057196789",
   "metadata": {
    "tags": []
   },
   "outputs": [],
   "source": []
  },
  {
   "cell_type": "code",
   "execution_count": null,
   "id": "bc118e7c-9352-4267-a796-2b567f875b38",
   "metadata": {
    "tags": []
   },
   "outputs": [],
   "source": []
  },
  {
   "cell_type": "code",
   "execution_count": null,
   "id": "85fd5028-4cc1-412e-921f-767aa0587a1b",
   "metadata": {
    "tags": []
   },
   "outputs": [],
   "source": []
  },
  {
   "cell_type": "code",
   "execution_count": null,
   "id": "a662838f-d003-4b7e-8366-c0e5654a9510",
   "metadata": {
    "tags": []
   },
   "outputs": [],
   "source": []
  },
  {
   "cell_type": "code",
   "execution_count": null,
   "id": "7b7abab9-ee02-44b4-a43f-67cce31250bc",
   "metadata": {
    "tags": []
   },
   "outputs": [],
   "source": []
  },
  {
   "cell_type": "code",
   "execution_count": null,
   "id": "564b3522-4236-4747-b029-47b2defad340",
   "metadata": {
    "tags": []
   },
   "outputs": [],
   "source": []
  },
  {
   "cell_type": "code",
   "execution_count": null,
   "id": "1047d719-082b-47db-bd8d-48b532c7464e",
   "metadata": {
    "tags": []
   },
   "outputs": [],
   "source": []
  },
  {
   "cell_type": "markdown",
   "id": "6c2c75f2-1573-4102-b7aa-78fdc1a42a5f",
   "metadata": {
    "tags": []
   },
   "source": [
    "## Data annotation\n",
    "\n",
    "\n",
    "Adding metadata or labels to data to make it easier to understand and, work with it. This is a crucial step in data science applications, as it helps to identify patterns, classify data, make predictions or extend analyses.\n",
    "\n",
    "\n",
    "Here, we will annotate the Protein identifiers with extra information from [UniProt](https://www.uniprot.org/). UniProt is a comprehensive and freely accessible resource of protein sequence and functional information, it has an [API (Application Programming Interface)](https://en.wikipedia.org/wiki/API) that allows [programmatic access](https://www.uniprot.org/help/programmatic_access) to this information.\n",
    "\n",
    "Example:\n",
    "\n",
    "```python\n",
    "\n",
    "import requests, sys\n",
    "\n",
    "requestURL = \"https://www.ebi.ac.uk/proteins/api/proteins/P19097\"\n",
    "\n",
    "r = requests.get(requestURL, headers={ \"Accept\" : \"application/json\"})\n",
    "\n",
    "if not r.ok:\n",
    "  r.raise_for_status()\n",
    "  sys.exit()\n",
    "\n",
    "responseBody = r.text\n",
    "print(responseBody)\n",
    "\n",
    "```"
   ]
  },
  {
   "cell_type": "code",
   "execution_count": null,
   "id": "1dbfe72b-203c-47a2-9214-2b0a1da5d221",
   "metadata": {
    "tags": []
   },
   "outputs": [],
   "source": []
  },
  {
   "cell_type": "code",
   "execution_count": null,
   "id": "7d8fdf69-81c9-4531-a341-8c303996af5b",
   "metadata": {
    "tags": []
   },
   "outputs": [],
   "source": []
  },
  {
   "cell_type": "code",
   "execution_count": null,
   "id": "5afb2ded-e677-4509-86a2-7656fb6b0b72",
   "metadata": {
    "tags": []
   },
   "outputs": [],
   "source": []
  },
  {
   "cell_type": "markdown",
   "id": "1006d9ae-e033-445f-8f95-b25822653e53",
   "metadata": {
    "tags": []
   },
   "source": [
    "## Data Validation\n",
    "\n",
    "The final step involves verifying that the data has been transformed correctly and is ready for analysis. This step includes checking that the data is accurate, complete, and consistent."
   ]
  },
  {
   "cell_type": "code",
   "execution_count": null,
   "id": "3861f67f-b235-4e3d-ac96-9adbdef387f4",
   "metadata": {
    "tags": []
   },
   "outputs": [],
   "source": []
  },
  {
   "cell_type": "code",
   "execution_count": null,
   "id": "7c009d50-c6c3-4d7e-8faf-8029ac1945a9",
   "metadata": {
    "tags": []
   },
   "outputs": [],
   "source": []
  },
  {
   "cell_type": "code",
   "execution_count": null,
   "id": "2a9d4d82-9afc-4941-9123-d1bb194f2170",
   "metadata": {
    "tags": []
   },
   "outputs": [],
   "source": []
  },
  {
   "cell_type": "code",
   "execution_count": null,
   "id": "997f2bd2-deb6-47ff-af01-ee82e20b9271",
   "metadata": {
    "tags": []
   },
   "outputs": [],
   "source": []
  }
 ],
 "metadata": {
  "kernelspec": {
   "display_name": "Python 3 (ipykernel)",
   "language": "python",
   "name": "python3"
  },
  "language_info": {
   "codemirror_mode": {
    "name": "ipython",
    "version": 3
   },
   "file_extension": ".py",
   "mimetype": "text/x-python",
   "name": "python",
   "nbconvert_exporter": "python",
   "pygments_lexer": "ipython3",
   "version": "3.11.3"
  }
 },
 "nbformat": 4,
 "nbformat_minor": 5
}
